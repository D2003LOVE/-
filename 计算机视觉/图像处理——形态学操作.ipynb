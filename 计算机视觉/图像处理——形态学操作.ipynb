{
 "cells": [
  {
   "cell_type": "markdown",
   "id": "c034288e-d8f2-410c-baec-81492515c95f",
   "metadata": {},
   "source": [
    "    形态学操作是图像处理中非常基础但强大的工具，尤其是在二值图像中清除噪声、提取物体轮廓、增强图像特征等方面有广泛应用。理解如何根据实际需求调整结构元素的大小和形状，选择合适的形态学操作组合，以及如何与其他图像处理方法结合，是使用形态学工具的关键。"
   ]
  },
  {
   "cell_type": "markdown",
   "id": "422ad061-8fe0-4bdf-978f-992f6b724fbf",
   "metadata": {},
   "source": [
    "### 腐蚀与膨胀操作\n",
    "**腐蚀** 作用:腐蚀操作用于缩小图像中的前景物体（白色部分），它通过滑动一个结构元素（内核）来侵蚀掉边缘像素，常用于去除小的噪声点，或者断开物体之间的细连接。"
   ]
  },
  {
   "cell_type": "code",
   "execution_count": 1,
   "id": "0f09c098-6927-4e4b-a628-ee832bf147a3",
   "metadata": {},
   "outputs": [],
   "source": [
    "import cv2\n",
    "import numpy as np\n",
    "# 读取图像\n",
    "img = cv2.imread('data/sd.png', 0)  # 以灰度模式读取图像\n",
    "# 定义一个结构元素\n",
    "kernel = np.ones((3, 3), np.uint8)\n",
    "# 腐蚀操作\n",
    "erosion = cv2.erode(img, kernel, iterations=1)\n",
    "# 显示腐蚀后的图像\n",
    "cv2.imshow('Erosion', erosion)\n",
    "cv2.waitKey(0)\n",
    "cv2.destroyAllWindows()\n"
   ]
  },
  {
   "cell_type": "markdown",
   "id": "97bae604-1acd-438e-9932-abc5714f3f20",
   "metadata": {},
   "source": [
    "**膨胀** 作用:与腐蚀相反，膨胀用于扩展图像中的前景物体。常用于填充物体内的小洞，或者奖分开的物体连接起来。"
   ]
  },
  {
   "cell_type": "code",
   "execution_count": 5,
   "id": "d0c6c968-2152-47d9-89c0-148a397858bb",
   "metadata": {},
   "outputs": [],
   "source": [
    "# 膨胀操作\n",
    "dilation = cv2.dilate(img, kernel, iterations=1)\n",
    "\n",
    "# 显示膨胀后的图像\n",
    "cv2.imshow('Dilation', dilation)\n",
    "cv2.waitKey(0)\n",
    "cv2.destroyAllWindows()\n"
   ]
  },
  {
   "cell_type": "markdown",
   "id": "c55a5e9e-c83f-443a-a6f6-0bf1371118ef",
   "metadata": {},
   "source": [
    "### 开运算和闭运算\n",
    "**开运算** 作用：开运算是先进行腐蚀，再进行膨胀。它主要用于去除小物体或噪声点，同时保持大物体的完整性。"
   ]
  },
  {
   "cell_type": "code",
   "execution_count": 11,
   "id": "19b248bb-6043-4e7d-8180-957684785aba",
   "metadata": {},
   "outputs": [],
   "source": [
    "# 开运算\n",
    "opening = cv2.morphologyEx(img, cv2.MORPH_OPEN, kernel)\n",
    "\n",
    "# 显示开运算后的图像\n",
    "cv2.imshow('Opening', opening)\n",
    "cv2.waitKey(0)\n",
    "cv2.destroyAllWindows()\n"
   ]
  },
  {
   "cell_type": "markdown",
   "id": "21a262c4-3735-4bd4-9aed-e143ce53f7f6",
   "metadata": {},
   "source": [
    "**闭运算** 作用：闭运算是先进行膨胀，再进行腐蚀。它用于填充前景物体中的小洞，或者连接前景中的断开区域"
   ]
  },
  {
   "cell_type": "code",
   "execution_count": 12,
   "id": "55811666-f0d2-4782-a7fd-884086781d06",
   "metadata": {},
   "outputs": [],
   "source": [
    "# 闭运算\n",
    "closing = cv2.morphologyEx(img, cv2.MORPH_CLOSE, kernel)\n",
    "\n",
    "# 显示闭运算后的图像\n",
    "cv2.imshow('Closing', closing)\n",
    "cv2.waitKey(0)\n",
    "cv2.destroyAllWindows()\n"
   ]
  },
  {
   "cell_type": "markdown",
   "id": "99051246-7c48-4b50-8aa7-c6e12d279e64",
   "metadata": {},
   "source": [
    "### **梯度计算**"
   ]
  },
  {
   "cell_type": "markdown",
   "id": "f73d8182-45a4-4d52-a4d2-102a297e4c48",
   "metadata": {},
   "source": [
    "**形态学梯度** 作用：梯度运算是膨胀图像与腐蚀图像的差值。它可以突出图像的边缘特征，适合用来检测物体的轮廓。"
   ]
  },
  {
   "cell_type": "code",
   "execution_count": 13,
   "id": "cc6cc3e6-64a4-4f1e-afd5-c51ada5a97a4",
   "metadata": {},
   "outputs": [],
   "source": [
    "# 形态学梯度\n",
    "import cv2\n",
    "import numpy as np\n",
    "img = cv2.imread('sd.png')\n",
    "kernel = np.ones((3, 3), np.uint8)\n",
    "gradient = cv2.morphologyEx(img, cv2.MORPH_GRADIENT, kernel)\n",
    "\n",
    "# 显示梯度图像\n",
    "cv2.imshow('Gradient', gradient)\n",
    "cv2.waitKey(0)\n",
    "cv2.destroyAllWindows()\n"
   ]
  },
  {
   "cell_type": "markdown",
   "id": "00c57604-730b-4c0d-90a8-d8e00ece55c4",
   "metadata": {},
   "source": [
    "### 礼帽与黑帽\n",
    "**礼帽（顶帽）** 作用：顶帽运算是原始图像与开运算图像的差值。它用于提取比周围亮的区域，例如亮斑、光斑等。"
   ]
  },
  {
   "cell_type": "code",
   "execution_count": 11,
   "id": "c381867b-56f6-4f31-b6e2-03045acc03d5",
   "metadata": {},
   "outputs": [],
   "source": [
    "# 顶帽运算\n",
    "tophat = cv2.morphologyEx(img, cv2.MORPH_TOPHAT, kernel)\n",
    "\n",
    "# 显示顶帽运算后的图像\n",
    "cv2.imshow('Top Hat', tophat)\n",
    "cv2.waitKey(0)\n",
    "cv2.destroyAllWindows()\n"
   ]
  },
  {
   "cell_type": "markdown",
   "id": "3aa413c2-0d2f-45d1-950f-01d1a53c0dc4",
   "metadata": {},
   "source": [
    "**黑帽** 作用：黑帽运算是闭运算图像与原始图像的差值。它用于提取比周围暗的区域。"
   ]
  },
  {
   "cell_type": "code",
   "execution_count": 12,
   "id": "7e69e746-ce6e-4460-9888-6f1c1b257f95",
   "metadata": {},
   "outputs": [],
   "source": [
    "# 黑帽运算\n",
    "blackhat = cv2.morphologyEx(img, cv2.MORPH_BLACKHAT, kernel)\n",
    "\n",
    "# 显示黑帽运算后的图像\n",
    "cv2.imshow('Black Hat', blackhat)\n",
    "cv2.waitKey(0)\n",
    "cv2.destroyAllWindows()\n"
   ]
  },
  {
   "cell_type": "code",
   "execution_count": null,
   "id": "d4f943bc-3784-4be0-bf9b-ef4c547d1701",
   "metadata": {},
   "outputs": [],
   "source": []
  }
 ],
 "metadata": {
  "kernelspec": {
   "display_name": "PyTorch Environment",
   "language": "python",
   "name": "pytorch_env"
  },
  "language_info": {
   "codemirror_mode": {
    "name": "ipython",
    "version": 3
   },
   "file_extension": ".py",
   "mimetype": "text/x-python",
   "name": "python",
   "nbconvert_exporter": "python",
   "pygments_lexer": "ipython3",
   "version": "3.8.19"
  }
 },
 "nbformat": 4,
 "nbformat_minor": 5
}
